{
  "nbformat": 4,
  "nbformat_minor": 0,
  "metadata": {
    "colab": {
      "name": "Get_COVID19_XRayData.ipynb",
      "provenance": [],
      "collapsed_sections": [],
      "toc_visible": true
    },
    "kernelspec": {
      "name": "python3",
      "display_name": "Python 3"
    }
  },
  "cells": [
    {
      "cell_type": "markdown",
      "metadata": {
        "id": "woSTcVST523n",
        "colab_type": "text"
      },
      "source": [
        "# Data colector for COVID-19 lung X-ray dataset \n",
        "\n",
        "Adapted from https://github.com/lindawangg/COVID-Net/blob/master/create_COVIDx_v2.ipynb"
      ]
    },
    {
      "cell_type": "code",
      "metadata": {
        "id": "QzpT6aIr5Tba",
        "colab_type": "code",
        "outputId": "0d955a99-503f-40bf-9b45-95645386cdc7",
        "colab": {
          "base_uri": "https://localhost:8080/",
          "height": 34
        }
      },
      "source": [
        "pip install pydicom"
      ],
      "execution_count": 0,
      "outputs": [
        {
          "output_type": "stream",
          "text": [
            "Requirement already satisfied: pydicom in /usr/local/lib/python3.6/dist-packages (1.4.2)\n"
          ],
          "name": "stdout"
        }
      ]
    },
    {
      "cell_type": "code",
      "metadata": {
        "id": "VUonmh3Y4rK_",
        "colab_type": "code",
        "colab": {}
      },
      "source": [
        "import numpy as np\n",
        "import pandas as pd\n",
        "import os\n",
        "import random \n",
        "from shutil import copyfile\n",
        "import pydicom as dicom\n",
        "import cv2"
      ],
      "execution_count": 0,
      "outputs": []
    },
    {
      "cell_type": "code",
      "metadata": {
        "id": "aVu44Sv55MN0",
        "colab_type": "code",
        "outputId": "3d189764-59f5-4aa9-ea21-86acbc4aefd7",
        "colab": {
          "base_uri": "https://localhost:8080/",
          "height": 34
        }
      },
      "source": [
        "# set parameters here\n",
        "savepath = '../covid19-xrays/'\n",
        "\n",
        "# path to covid-19 dataset \n",
        "imgpath = 'https://github.com/ieee8023/covid-chestxray-dataset/tree/master/images'  \n",
        "csvpath = 'https://github.com/ieee8023/covid-chestxray-dataset/tree/master/metadata.csv'\n",
        "\n",
        "# parameters for COVIDx dataset\n",
        "mapping = dict()\n",
        "mapping['COVID-19'] = 'COVID-19'\n",
        "mapping['SARS'] = 'pneumonia'\n",
        "mapping['MERS'] = 'pneumonia'\n",
        "mapping['Streptococcus'] = 'pneumonia'\n",
        "mapping['Normal'] = 'normal'\n",
        "mapping['Lung Opacity'] = 'pneumonia'\n",
        "mapping['1'] = 'pneumonia'\n"
      ],
      "execution_count": 0,
      "outputs": [
        {
          "output_type": "stream",
          "text": [
            "{'COVID-19': 'COVID-19', 'SARS': 'pneumonia', 'MERS': 'pneumonia', 'Streptococcus': 'pneumonia', 'Normal': 'normal', 'Lung Opacity': 'pneumonia', '1': 'pneumonia'}\n"
          ],
          "name": "stdout"
        }
      ]
    },
    {
      "cell_type": "code",
      "metadata": {
        "id": "8tmYl7NJ5rB8",
        "colab_type": "code",
        "outputId": "49217a4d-c5d7-42bc-9630-e4d5243e8afb",
        "colab": {
          "base_uri": "https://localhost:8080/",
          "height": 34
        }
      },
      "source": [
        "# adapted from https://github.com/mlmed/torchxrayvision/blob/master/torchxrayvision/datasets.py#L814\n",
        "csv = pd.read_csv(csvpath,  engine=\"python\")\n",
        "idx_pa = csv[\"view\"] == \"PA\"  # Keep only the PA view\n",
        "csv = csv[idx_pa]\n",
        "\n",
        "pneumonias = [\"COVID-19\", \"SARS\", \"MERS\", \"ARDS\", \"Streptococcus\"]\n",
        "pathologies = [\"Pneumonia\",\"Viral Pneumonia\", \"Bacterial Pneumonia\", \"No Finding\"] + pneumonias\n",
        "pathologies = sorted(pathologies)\n",
        "\n",
        "print(pathologies)"
      ],
      "execution_count": 0,
      "outputs": [
        {
          "output_type": "stream",
          "text": [
            "['ARDS', 'Bacterial Pneumonia', 'COVID-19', 'MERS', 'No Finding', 'Pneumonia', 'SARS', 'Streptococcus', 'Viral Pneumonia']\n"
          ],
          "name": "stdout"
        }
      ]
    },
    {
      "cell_type": "code",
      "metadata": {
        "id": "O544N6hJ6Tk7",
        "colab_type": "code",
        "outputId": "0615a778-4bd8-4ed2-edec-ed3434cd7c39",
        "colab": {
          "base_uri": "https://localhost:8080/",
          "height": 105
        }
      },
      "source": [
        "# get non-COVID19 viral, bacteria, and COVID-19 infections from covid-chestxray-dataset\n",
        "# stored as patient id, image filename and label\n",
        "filename_label = {'normal': [], 'pneumonia': [], 'COVID-19': []}\n",
        "count = {'normal': 0, 'pneumonia': 0, 'COVID-19': 0}\n",
        "for index, row in csv.iterrows():\n",
        "    f = row['finding']\n",
        "    if f in mapping:\n",
        "        count[mapping[f]] += 1\n",
        "        entry = [int(row['patientid']), row['filename'], mapping[f]]\n",
        "        filename_label[mapping[f]].append(entry)\n",
        "\n",
        "print('Data distribution from covid-chestxray-dataset:')\n",
        "print(count)\n",
        "print(filename_label)\n",
        "print(filename_label['pneumonia'])"
      ],
      "execution_count": 0,
      "outputs": [
        {
          "output_type": "stream",
          "text": [
            "Data distribution from covid-chestxray-dataset:\n",
            "{'normal': 0, 'pneumonia': 24, 'COVID-19': 103}\n",
            "{'normal': [], 'pneumonia': [[3, 'SARS-10.1148rg.242035193-g04mr34g0-Fig8a-day0.jpeg', 'pneumonia'], [3, 'SARS-10.1148rg.242035193-g04mr34g0-Fig8b-day5.jpeg', 'pneumonia'], [3, 'SARS-10.1148rg.242035193-g04mr34g0-Fig8c-day10.jpeg', 'pneumonia'], [7, 'SARS-10.1148rg.242035193-g04mr34g04a-Fig4a-day7.jpeg', 'pneumonia'], [7, 'SARS-10.1148rg.242035193-g04mr34g04b-Fig4b-day12.jpeg', 'pneumonia'], [8, 'SARS-10.1148rg.242035193-g04mr34g05x-Fig5-day9.jpeg', 'pneumonia'], [9, 'SARS-10.1148rg.242035193-g04mr34g07a-Fig7a-day5.jpeg', 'pneumonia'], [9, 'SARS-10.1148rg.242035193-g04mr34g07b-Fig7b-day12.jpeg', 'pneumonia'], [10, 'SARS-10.1148rg.242035193-g04mr34g09a-Fig9a-day17.jpeg', 'pneumonia'], [10, 'SARS-10.1148rg.242035193-g04mr34g09b-Fig9b-day19.jpeg', 'pneumonia'], [10, 'SARS-10.1148rg.242035193-g04mr34g09c-Fig9c-day27.jpeg', 'pneumonia'], [29, 'streptococcus-pneumoniae-pneumonia-1.jpg', 'pneumonia'], [30, 'pneumonia-7.jpg', 'pneumonia'], [31, 'streptococcus-pneumoniae-pneumonia-temporal-evolution-1-day0.jpg', 'pneumonia'], [31, 'streptococcus-pneumoniae-pneumonia-temporal-evolution-1-day1.jpg', 'pneumonia'], [31, 'streptococcus-pneumoniae-pneumonia-temporal-evolution-1-day2.jpg', 'pneumonia'], [31, 'streptococcus-pneumoniae-pneumonia-temporal-evolution-1-day3.jpg', 'pneumonia'], [87, 'pneumococcal-pneumonia-day0.jpg', 'pneumonia'], [87, 'pneumococcal-pneumonia-day7.jpg', 'pneumonia'], [87, 'pneumococcal-pneumonia-day35.jpg', 'pneumonia'], [88, 'parapneumonic-effusion-1-PA.png', 'pneumonia'], [89, 'right-upper-lobe-pneumonia-9-PA.jpg', 'pneumonia'], [92, 'cavitating-pneumonia-4-day0-PA.jpg', 'pneumonia'], [92, 'cavitating-pneumonia-4-day28-PA.png', 'pneumonia']], 'COVID-19': [[2, 'auntminnie-a-2020_01_28_23_51_6665_2020_01_28_Vietnam_coronavirus.jpeg', 'COVID-19'], [2, 'auntminnie-b-2020_01_28_23_51_6665_2020_01_28_Vietnam_coronavirus.jpeg', 'COVID-19'], [2, 'auntminnie-c-2020_01_28_23_51_6665_2020_01_28_Vietnam_coronavirus.jpeg', 'COVID-19'], [2, 'auntminnie-d-2020_01_28_23_51_6665_2020_01_28_Vietnam_coronavirus.jpeg', 'COVID-19'], [4, 'nejmc2001573_f1a.jpeg', 'COVID-19'], [4, 'nejmc2001573_f1b.jpeg', 'COVID-19'], [6, 'lancet-case2a.jpg', 'COVID-19'], [6, 'lancet-case2b.jpg', 'COVID-19'], [11, '1-s2.0-S0140673620303706-fx1_lrg.jpg', 'COVID-19'], [12, 'nCoV-radiol.2020200269.fig1-day7.jpeg', 'COVID-19'], [13, 'nejmoa2001191_f1-PA.jpeg', 'COVID-19'], [13, 'nejmoa2001191_f3-PA.jpeg', 'COVID-19'], [13, 'nejmoa2001191_f4.jpeg', 'COVID-19'], [13, 'nejmoa2001191_f5-PA.jpeg', 'COVID-19'], [14, 'ryct.2020200034.fig2.jpeg', 'COVID-19'], [15, 'ryct.2020200034.fig5-day0.jpeg', 'COVID-19'], [15, 'ryct.2020200034.fig5-day4.jpeg', 'COVID-19'], [15, 'ryct.2020200034.fig5-day7.jpeg', 'COVID-19'], [16, 'ryct.2020200028.fig1a.jpeg', 'COVID-19'], [18, 'radiol.2020200490.fig3.jpeg', 'COVID-19'], [19, '1-s2.0-S0929664620300449-gr2_lrg-a.jpg', 'COVID-19'], [19, '1-s2.0-S0929664620300449-gr2_lrg-b.jpg', 'COVID-19'], [19, '1-s2.0-S0929664620300449-gr2_lrg-c.jpg', 'COVID-19'], [19, '1-s2.0-S0929664620300449-gr2_lrg-d.jpg', 'COVID-19'], [20, 'covid-19-pneumonia-15-PA.jpg', 'COVID-19'], [21, 'covid-19-pneumonia-2.jpg', 'COVID-19'], [22, 'covid-19-pneumonia-7-PA.jpg', 'COVID-19'], [23, 'covid-19-pneumonia-14-PA.png', 'COVID-19'], [24, 'covid-19-pneumonia-12.jpg', 'COVID-19'], [33, '7C69C012-7479-493F-8722-ABC29C60A2DD.jpeg', 'COVID-19'], [36, '8FDE8DBA-CFBD-4B4C-B1A4-6F36A93B7E87.jpeg', 'COVID-19'], [36, '9C34AF49-E589-44D5-92D3-168B3B04E4A6.jpeg', 'COVID-19'], [37, 'F2DE909F-E19C-4900-92F5-8F435B031AC6.jpeg', 'COVID-19'], [37, '31BA3780-2323-493F-8AED-62081B9C383B.jpeg', 'COVID-19'], [39, '1312A392-67A3-4EBF-9319-810CF6DA5EF6.jpeg', 'COVID-19'], [40, '23E99E2E-447C-46E5-8EB2-D35D12473C39.png', 'COVID-19'], [41, '7AF6C1AF-D249-4BD2-8C26-449304105D03.jpeg', 'COVID-19'], [42, '1B734A89-A1BF-49A8-A1D3-66FAFA4FAC5D.jpeg', 'COVID-19'], [43, 'CD50BA96-6982-4C80-AE7B-5F67ACDBFA56.jpeg', 'COVID-19'], [44, '85E52EB3-56E9-4D67-82DA-DEA247C82886.jpeg', 'COVID-19'], [45, '6CB4EFC6-68FA-4CD5-940C-BEFA8DAFE9A7.jpeg', 'COVID-19'], [46, '01E392EE-69F9-4E33-BFCE-E5C968654078.jpeg', 'COVID-19'], [47, 'F63AB6CE-1968-4154-A70F-913AF154F53D.jpeg', 'COVID-19'], [48, '2C26F453-AF3B-4517-BB9E-802CF2179543.jpeg', 'COVID-19'], [49, '93FE0BB1-022D-4F24-9727-987A07975FFB.jpeg', 'COVID-19'], [51, 'F4341CE7-73C9-45C6-99C8-8567A5484B63.jpeg', 'COVID-19'], [51, 'E63574A7-4188-4C8D-8D17-9D67A18A1AFA.jpeg', 'COVID-19'], [54, '80446565-E090-4187-A031-9D3CEAA586C8.jpeg', 'COVID-19'], [57, 'all14238-fig-0001-m-b.jpg', 'COVID-19'], [57, 'all14238-fig-0001-m-c.jpg', 'COVID-19'], [59, '1-s2.0-S1684118220300608-main.pdf-001.jpg', 'COVID-19'], [59, '1-s2.0-S1684118220300608-main.pdf-002.jpg', 'COVID-19'], [60, 'ciaa199.pdf-001-a.png', 'COVID-19'], [61, 'ciaa199.pdf-001-b.png', 'COVID-19'], [62, 'ciaa199.pdf-001-c.png', 'COVID-19'], [63, 'kjr-21-e24-g001-l-a.jpg', 'COVID-19'], [64, 'kjr-21-e24-g002-l-a.jpg', 'COVID-19'], [65, 'kjr-21-e24-g003-l-a.jpg', 'COVID-19'], [67, '1-s2.0-S1684118220300682-main.pdf-002-a1.png', 'COVID-19'], [67, '1-s2.0-S1684118220300682-main.pdf-002-a2.png', 'COVID-19'], [68, '1-s2.0-S1684118220300682-main.pdf-003-b1.png', 'COVID-19'], [68, '1-s2.0-S1684118220300682-main.pdf-003-b2.png', 'COVID-19'], [69, 'gr1_lrg-a.jpg', 'COVID-19'], [69, 'gr1_lrg-b.jpg', 'COVID-19'], [70, 'FE9F9A5D-2830-46F9-851B-1FF4534959BE.jpeg', 'COVID-19'], [73, '41591_2020_819_Fig1_HTML.webp-day5.png', 'COVID-19'], [73, '41591_2020_819_Fig1_HTML.webp-day10.png', 'COVID-19'], [75, 'covid-19-pneumonia-19.jpg', 'COVID-19'], [76, 'kjr-21-e25-g001-l-a.jpg', 'COVID-19'], [77, '03BF7561-A9BA-4C3C-B8A0-D3E585F73F3C.jpeg', 'COVID-19'], [78, '353889E0-A1E8-4F9E-A0B8-F24F36BCFBFB.jpeg', 'COVID-19'], [80, 'figure1-5e75d0940b71e1b702629659-98-right.jpeg', 'COVID-19'], [81, 'figure1-5e71be566aa8714a04de3386-98-left.jpeg', 'COVID-19'], [85, '2966893D-5DDF-4B68-9E2B-4979D5956C8E.jpeg', 'COVID-19'], [86, 'B2D20576-00B7-4519-A415-72DE29C90C34.jpeg', 'COVID-19'], [86, '6C94A287-C059-46A0-8600-AFB95F4727B7.jpeg', 'COVID-19'], [93, 'covid-19-pneumonia-30-PA.jpg', 'COVID-19'], [94, '6b44464d-73a7-4cf3-bbb6-ffe7168300e3.annot.original.jpeg', 'COVID-19'], [95, '58cb9263f16e94305c730685358e4e_jumbo.jpeg', 'COVID-19'], [95, '9fdd3c3032296fd04d2cad5d9070d4_jumbo.jpeg', 'COVID-19'], [96, 'covid-19-pneumonia-rapidly-progressive-admission.jpg', 'COVID-19'], [96, 'covid-19-pneumonia-rapidly-progressive-12-hours.jpg', 'COVID-19'], [96, 'covid-19-pneumonia-rapidly-progressive-3-days.jpg', 'COVID-19'], [97, 'covid-19-rapidly-progressive-acute-respiratory-distress-syndrome-ards-admission.jpg', 'COVID-19'], [97, 'covid-19-rapidly-progressive-acute-respiratory-distress-syndrome-ards-day-1.jpg', 'COVID-19'], [97, 'covid-19-rapidly-progressive-acute-respiratory-distress-syndrome-ards-day-2.jpg', 'COVID-19'], [98, 'covid-19-infection-exclusive-gastrointestinal-symptoms-pa.png', 'COVID-19'], [98, 'covid-19-infection-exclusive-gastrointestinal-symptoms-l.png', 'COVID-19'], [99, 'covid-19-pneumonia-28.png', 'COVID-19'], [112, '1.CXRCTThoraximagesofCOVID-19fromSingapore.pdf-000-fig1a.png', 'COVID-19'], [112, '1.CXRCTThoraximagesofCOVID-19fromSingapore.pdf-000-fig1b.png', 'COVID-19'], [113, '1.CXRCTThoraximagesofCOVID-19fromSingapore.pdf-001-fig2a.png', 'COVID-19'], [113, '1.CXRCTThoraximagesofCOVID-19fromSingapore.pdf-001-fig2b.png', 'COVID-19'], [114, '1.CXRCTThoraximagesofCOVID-19fromSingapore.pdf-002-fig3a.png', 'COVID-19'], [114, '1.CXRCTThoraximagesofCOVID-19fromSingapore.pdf-002-fig3b.png', 'COVID-19'], [115, '1.CXRCTThoraximagesofCOVID-19fromSingapore.pdf-003-fig4a.png', 'COVID-19'], [115, '1.CXRCTThoraximagesofCOVID-19fromSingapore.pdf-003-fig4b.png', 'COVID-19'], [117, 'covid-19-pneumonia-evolution-over-a-week-1-day0-PA.jpg', 'COVID-19'], [118, '53EC07C9-5CC6-4BE4-9B6F-D7B0D72AAA7E.jpeg', 'COVID-19'], [139, 'covid-19-caso-70-1-PA.jpg', 'COVID-19'], [140, '4e43e48d52c9e2d4c6c1fb9bc1544f_jumbo.jpeg', 'COVID-19'], [141, 'covid-19-pneumonia-53.jpg', 'COVID-19'], [149, 'fff49165-b22d-4bb4-b9d1-d5d62c52436c.annot.original.png', 'COVID-19']]}\n",
            "[[3, 'SARS-10.1148rg.242035193-g04mr34g0-Fig8a-day0.jpeg', 'pneumonia'], [3, 'SARS-10.1148rg.242035193-g04mr34g0-Fig8b-day5.jpeg', 'pneumonia'], [3, 'SARS-10.1148rg.242035193-g04mr34g0-Fig8c-day10.jpeg', 'pneumonia'], [7, 'SARS-10.1148rg.242035193-g04mr34g04a-Fig4a-day7.jpeg', 'pneumonia'], [7, 'SARS-10.1148rg.242035193-g04mr34g04b-Fig4b-day12.jpeg', 'pneumonia'], [8, 'SARS-10.1148rg.242035193-g04mr34g05x-Fig5-day9.jpeg', 'pneumonia'], [9, 'SARS-10.1148rg.242035193-g04mr34g07a-Fig7a-day5.jpeg', 'pneumonia'], [9, 'SARS-10.1148rg.242035193-g04mr34g07b-Fig7b-day12.jpeg', 'pneumonia'], [10, 'SARS-10.1148rg.242035193-g04mr34g09a-Fig9a-day17.jpeg', 'pneumonia'], [10, 'SARS-10.1148rg.242035193-g04mr34g09b-Fig9b-day19.jpeg', 'pneumonia'], [10, 'SARS-10.1148rg.242035193-g04mr34g09c-Fig9c-day27.jpeg', 'pneumonia'], [29, 'streptococcus-pneumoniae-pneumonia-1.jpg', 'pneumonia'], [30, 'pneumonia-7.jpg', 'pneumonia'], [31, 'streptococcus-pneumoniae-pneumonia-temporal-evolution-1-day0.jpg', 'pneumonia'], [31, 'streptococcus-pneumoniae-pneumonia-temporal-evolution-1-day1.jpg', 'pneumonia'], [31, 'streptococcus-pneumoniae-pneumonia-temporal-evolution-1-day2.jpg', 'pneumonia'], [31, 'streptococcus-pneumoniae-pneumonia-temporal-evolution-1-day3.jpg', 'pneumonia'], [87, 'pneumococcal-pneumonia-day0.jpg', 'pneumonia'], [87, 'pneumococcal-pneumonia-day7.jpg', 'pneumonia'], [87, 'pneumococcal-pneumonia-day35.jpg', 'pneumonia'], [88, 'parapneumonic-effusion-1-PA.png', 'pneumonia'], [89, 'right-upper-lobe-pneumonia-9-PA.jpg', 'pneumonia'], [92, 'cavitating-pneumonia-4-day0-PA.jpg', 'pneumonia'], [92, 'cavitating-pneumonia-4-day28-PA.png', 'pneumonia']]\n"
          ],
          "name": "stdout"
        }
      ]
    },
    {
      "cell_type": "code",
      "metadata": {
        "id": "G5W2rp_i_pWK",
        "colab_type": "code",
        "outputId": "3a4eb479-04d2-494b-d2b4-0da6d59f6a87",
        "colab": {
          "base_uri": "https://localhost:8080/",
          "height": 85
        }
      },
      "source": [
        "# add covid-chestxray-dataset into COVIDx dataset\n",
        "# since covid-chestxray-dataset doesn't have test dataset\n",
        "# split into train/test by patientid\n",
        "# for COVIDx:\n",
        "# patient 8 is used as non-COVID19 viral test\n",
        "# patient 31 is used as bacterial test\n",
        "# patients 19, 20, 36, 42, 86 are used as COVID-19 viral test\n",
        "import requests\n",
        "\n",
        "git_url = imgpath \n",
        "\n",
        "for key in filename_label.keys():\n",
        "    arr = np.array(filename_label[key])\n",
        "    if arr.size == 0:\n",
        "        continue\n",
        "    # split by patients\n",
        "    # num_diff_patients = len(np.unique(arr[:,0]))\n",
        "    # num_test = max(1, round(split*num_diff_patients))\n",
        "    # select num_test number of random patients\n",
        "        \n",
        "    if key == 'pneumonia':\n",
        "        test_patients = ['8', '31']\n",
        "    elif key == 'COVID-19':\n",
        "        test_patients = ['19', '20', '36', '42', '86'] # random.sample(list(arr[:,0]), num_test)\n",
        "    else: \n",
        "        test_patients = []\n",
        "\n",
        "    # go through all the patients\n",
        "    for patient in arr:\n",
        "        if patient[0] in test_patients:\n",
        "            pth = savepath + 'test/' + key + '/' + patient[1]\n",
        "        else:\n",
        "            pth = savepath + 'train/' + key + '/' + patient[1]\n",
        "\n",
        "        response = requests.get(git_url + patient[1])\n",
        "\n",
        "        if response.status_code == 200:\n",
        "          with open(pth, 'wb') as f:\n",
        "            f.write(response.content)"
      ],
      "execution_count": 0,
      "outputs": [
        {
          "output_type": "stream",
          "text": [
            "Key:  pneumonia\n",
            "Test patients:  ['8', '31']\n",
            "Key:  COVID-19\n",
            "Test patients:  ['19', '20', '36', '42', '86']\n"
          ],
          "name": "stdout"
        }
      ]
    }
  ]
}